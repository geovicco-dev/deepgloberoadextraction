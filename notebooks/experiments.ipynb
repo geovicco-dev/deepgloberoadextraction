{
 "cells": [
  {
   "cell_type": "markdown",
   "metadata": {},
   "source": [
    "### Stage 1: Data Ingestion\n",
    "\n",
    "- [ ] Define Configuration for Interacting with Kaggle Public API\n",
    "- [ ] Download Kaggle Dataset using Kaggle Credentials and Save Data to `data` directory\n",
    "- [ ] Create a Pipeline that automates data ingestion for any publically available Kaggle Dataset\n"
   ]
  },
  {
   "cell_type": "markdown",
   "metadata": {},
   "source": [
    "#### Configuration"
   ]
  },
  {
   "cell_type": "code",
   "execution_count": 1,
   "metadata": {},
   "outputs": [
    {
     "name": "stdout",
     "output_type": "stream",
     "text": [
      "Current Working Directory: /mnt/e/Projects/DeepGlobeRoadExtraction\n"
     ]
    }
   ],
   "source": [
    "import os\n",
    "os.chdir('../')\n",
    "print(f'Current Working Directory: {os.getcwd()}')"
   ]
  },
  {
   "cell_type": "code",
   "execution_count": 2,
   "metadata": {},
   "outputs": [
    {
     "name": "stdout",
     "output_type": "stream",
     "text": [
      "[2024-06-29 19:31:16,323: INFO: common: yaml file: config.yaml loaded successfully]\n",
      "[2024-06-29 19:31:16,332: INFO: common: yaml file: secrets.yaml loaded successfully]\n",
      "[2024-06-29 19:31:16,334: INFO: common: created directory at: data]\n"
     ]
    },
    {
     "data": {
      "text/plain": [
       "DataIngestionConfig(username='adityasharma47', token='7a55ff734d90892c9d530089ea61e0f7', download_dir=PosixPath('data'), dataset_id='balraj98/deepglobe-road-extraction-dataset')"
      ]
     },
     "execution_count": 2,
     "metadata": {},
     "output_type": "execute_result"
    }
   ],
   "source": [
    "from dataclasses import dataclass\n",
    "from pathlib import Path\n",
    "\n",
    "@dataclass(frozen=True)\n",
    "class DataIngestionConfig:\n",
    "    # Kaggle Credentials from secrets.yaml\n",
    "    username: str\n",
    "    token: str\n",
    "    # config.yaml\n",
    "    download_dir: Path\n",
    "    dataset_id: str\n",
    "\n",
    "from DeepGlobeRoadExtraction import CONFIG_FILE_PATH, SECRETS_FILE_PATH\n",
    "from DeepGlobeRoadExtraction.utils.common import read_yaml, create_directories\n",
    "\n",
    "class ConfigurationManager:\n",
    "    def __init__(self, config_filepath = CONFIG_FILE_PATH, secrets_filepath = SECRETS_FILE_PATH) -> None:\n",
    "        self.config = read_yaml(config_filepath)\n",
    "        self.secrets = read_yaml(secrets_filepath)\n",
    "        create_directories([self.config.data_ingestion.download_dir])\n",
    "    \n",
    "    def get_data_ingestion_config(self) -> DataIngestionConfig:\n",
    "        config = self.config.data_ingestion\n",
    "        secrets = self.secrets.kaggle\n",
    "        cfg = DataIngestionConfig(\n",
    "            download_dir=Path(config.download_dir),\n",
    "            dataset_id=config.dataset_id,\n",
    "            username=secrets.username,\n",
    "            token=secrets.token\n",
    "        )\n",
    "        return cfg\n",
    "    \n",
    "cfg = ConfigurationManager().get_data_ingestion_config()\n",
    "cfg"
   ]
  },
  {
   "cell_type": "markdown",
   "metadata": {},
   "source": [
    "#### Components"
   ]
  },
  {
   "cell_type": "code",
   "execution_count": 3,
   "metadata": {},
   "outputs": [],
   "source": [
    "import os\n",
    "import subprocess\n",
    "import json\n",
    "from DeepGlobeRoadExtraction import logger\n",
    "from pathlib import Path\n",
    "\n",
    "class DataIngestionComponents:\n",
    "    def __init__(self, config: DataIngestionConfig) -> None:\n",
    "        self.config = config\n",
    "\n",
    "    def initialise_kaggle(self):\n",
    "        logger.info(f'---------- Initialising Kaggle Account ----------')\n",
    "        # Set Path for Kaggle Configration File\n",
    "        KAGGLE_CONFIG_DIR = os.path.join(os.path.expandvars('$HOME'), '.kaggle')\n",
    "        KAGGLE_CONFIG_FILE = os.path.join(KAGGLE_CONFIG_DIR, 'kaggle.json')\n",
    "        \n",
    "        # Check if kaggle.json already exists and is not empty\n",
    "        if os.path.exists(KAGGLE_CONFIG_FILE) and os.path.getsize(KAGGLE_CONFIG_FILE) > 0:\n",
    "            logger.warning(f'---> Kaggle Account Credentials Found ==> {KAGGLE_CONFIG_FILE}. Remove this file and re-initialse if API token is invalid or has expired.')\n",
    "            return\n",
    "        \n",
    "        # Otherwise create .kaggle directory\n",
    "        os.makedirs(KAGGLE_CONFIG_DIR, exist_ok=True)\n",
    "        \n",
    "        try:\n",
    "            username = self.config.username\n",
    "            token = self.config.token\n",
    "            api_dict = {'username': username, 'key': token}\n",
    "            \n",
    "            # Create a kaggle.json file inside .kaggle folder and add your credentials\n",
    "            with open(KAGGLE_CONFIG_FILE, \"w\", encoding=\"utf-8\") as f:\n",
    "                json.dump(api_dict, f)\n",
    "            \n",
    "            # Change File Permissions\n",
    "            cmd = f\"chmod 600 {KAGGLE_CONFIG_FILE}\"\n",
    "            output = subprocess.check_output(cmd.split(\" \"))\n",
    "            output = output.decode(encoding=\"utf-8\")\n",
    "        except Exception as e:\n",
    "            logger.error('Failed to Initialise Kaggle Account!')\n",
    "            raise e\n",
    "        \n",
    "    # Download Kaggle Dataset\n",
    "    def download_dataset(self):\n",
    "        if Path(self.config.download_dir).is_dir() and 'metadata.csv' in os.listdir(self.config.download_dir):\n",
    "            # If download directory exists and contains metadata.csv, skip download\n",
    "            logger.info(f'---> Data directory already exists. Skipping download.')\n",
    "            return\n",
    "        \n",
    "        from kaggle.api.kaggle_api_extended import KaggleApi\n",
    "        logger.info(f'---------- Downloading Kaggle Dataset: {self.config.dataset_id} ----------')\n",
    "        try:\n",
    "            api = KaggleApi()\n",
    "            api.authenticate()\n",
    "            api.dataset_download_files(\n",
    "                dataset=self.config.dataset_id,\n",
    "                path=self.config.download_dir,\n",
    "                unzip=True,\n",
    "                force=False,\n",
    "                quiet=True\n",
    "            )\n",
    "            logger.info('---> Download Complete!')\n",
    "        except Exception as e:\n",
    "            logger.error('Kaggle dataset download failed!')\n",
    "            raise e"
   ]
  },
  {
   "cell_type": "markdown",
   "metadata": {},
   "source": [
    "#### Pipeline"
   ]
  },
  {
   "cell_type": "code",
   "execution_count": 4,
   "metadata": {},
   "outputs": [],
   "source": [
    "class DataIngestionPipeline:\n",
    "    def __init__(self) -> None:\n",
    "        pass\n",
    "    \n",
    "    def main(self):\n",
    "        config = ConfigurationManager().get_data_ingestion_config()\n",
    "        pipeline = DataIngestionComponents(config=config)\n",
    "        pipeline.initialise_kaggle()\n",
    "        pipeline.download_dataset()"
   ]
  },
  {
   "cell_type": "code",
   "execution_count": 5,
   "metadata": {},
   "outputs": [
    {
     "name": "stdout",
     "output_type": "stream",
     "text": [
      "[2024-06-29 19:33:40,293: INFO: common: yaml file: config.yaml loaded successfully]\n",
      "[2024-06-29 19:33:40,296: INFO: common: yaml file: secrets.yaml loaded successfully]\n",
      "[2024-06-29 19:33:40,298: INFO: common: created directory at: data]\n",
      "[2024-06-29 19:33:40,298: INFO: 688282968: ---------- Initialising Kaggle Account ----------]\n",
      "[2024-06-29 19:33:40,300: WARNING: 688282968: ---> Kaggle Account Credentials Found ==> /home/geovicco/.kaggle/kaggle.json. Remove this file and re-initialse if API token is invalid or has expired.]\n",
      "[2024-06-29 19:33:40,304: INFO: 688282968: ---> data already exists. Skipping download.]\n"
     ]
    }
   ],
   "source": [
    "DataIngestionPipeline().main()"
   ]
  },
  {
   "cell_type": "markdown",
   "metadata": {},
   "source": [
    "### Stage 2: Data Prepparation\n",
    "\n",
    "- [ ] Read original `metadata.csv` file,\n",
    "- [ ] Split training images into training, test, and validation sets, and\n",
    "- [ ] Saving the updated metadata information inside the `data` folder\n"
   ]
  },
  {
   "cell_type": "code",
   "execution_count": 1,
   "metadata": {},
   "outputs": [
    {
     "name": "stdout",
     "output_type": "stream",
     "text": [
      "Current Working Directory: /mnt/e/Projects/DeepGlobeRoadExtraction\n"
     ]
    }
   ],
   "source": [
    "import os\n",
    "os.chdir('../')\n",
    "print(f'Current Working Directory: {os.getcwd()}')"
   ]
  },
  {
   "cell_type": "code",
   "execution_count": 3,
   "metadata": {},
   "outputs": [
    {
     "name": "stdout",
     "output_type": "stream",
     "text": [
      "[2024-06-29 17:32:52,223: INFO: common: yaml file: config.yaml loaded successfully]\n",
      "[2024-06-29 17:32:52,226: INFO: common: yaml file: params.yaml loaded successfully]\n"
     ]
    },
    {
     "data": {
      "text/plain": [
       "DataPrepConfig(random_state=26, train_val_test_split_ratio=BoxList([0.8, 0.1, 0.1]), data_dir='data', metadata_path='data/metadata.csv', processed_metadata_path='data/processed_metadata.csv')"
      ]
     },
     "execution_count": 3,
     "metadata": {},
     "output_type": "execute_result"
    }
   ],
   "source": [
    "from dataclasses import dataclass\n",
    "from pathlib import Path\n",
    "from typing import List\n",
    "\n",
    "@dataclass(frozen=True)\n",
    "class DataPrepConfig:\n",
    "    # params.yaml\n",
    "    random_state: int\n",
    "    train_val_test_split_ratio: List[float]\n",
    "    # config.yaml\n",
    "    data_dir: Path\n",
    "    metadata_path: Path\n",
    "    processed_metadata_path: Path\n",
    "\n",
    "from DeepGlobeRoadExtraction import CONFIG_FILE_PATH, PARAMS_FILE_PATH\n",
    "from DeepGlobeRoadExtraction.utils.common import read_yaml\n",
    "\n",
    "class ConfigurationManager:\n",
    "    def __init__(self, config_filepath = CONFIG_FILE_PATH, params_filepath = PARAMS_FILE_PATH) -> None:\n",
    "        self.config = read_yaml(config_filepath)\n",
    "        self.params = read_yaml(params_filepath)\n",
    "\n",
    "    \n",
    "    def get_data_prep_config(self) -> DataPrepConfig:\n",
    "        config = self.config.data_preparation\n",
    "        params = self.params\n",
    "        cfg = DataPrepConfig(\n",
    "            random_state=params.random_state,\n",
    "            train_val_test_split_ratio=params.train_val_test_split_ratio,\n",
    "            data_dir=config.data_dir,\n",
    "            metadata_path=config.metadata_path,\n",
    "            processed_metadata_path=config.processed_metadata_path\n",
    "        )\n",
    "        return cfg\n",
    "    \n",
    "cfg = ConfigurationManager().get_data_prep_config()\n",
    "cfg"
   ]
  },
  {
   "cell_type": "code",
   "execution_count": 11,
   "metadata": {},
   "outputs": [],
   "source": [
    "# Components\n",
    "from DeepGlobeRoadExtraction import logger\n",
    "import pandas as pd\n",
    "import os\n",
    "from sklearn.model_selection import train_test_split\n",
    "\n",
    "class DataPrepComponents:\n",
    "    def __init__(self, config: DataPrepConfig) -> None:\n",
    "        self.config = config\n",
    "    \n",
    "    def load_metadata(self) -> pd.DataFrame:\n",
    "        logger.info(f'---------- Loading Metadata: {self.config.metadata_path} ----------')\n",
    "        try:\n",
    "            metadata_df = pd.read_csv(self.config.metadata_path)\n",
    "            metadata_df = metadata_df[metadata_df['split'] == 'train']\n",
    "            metadata_df = metadata_df[['image_id', 'sat_image_path', 'mask_path']] # Select Columns\n",
    "            metadata_df['sat_image_path'] = metadata_df['sat_image_path'].apply(lambda img_path: os.path.join(self.config.data_dir, img_path)) # Update image paths\n",
    "            metadata_df['mask_path'] = metadata_df['mask_path'].apply(lambda img_path: os.path.join(self.config.data_dir, img_path)) # Update mask paths\n",
    "            self.metadata_df = metadata_df\n",
    "        except Exception as e:\n",
    "            logger.error(f'Failed to load Metadata: {self.config.metadata_path}')\n",
    "            logger.exception(e)\n",
    "            \n",
    "    def split_dataset(self):\n",
    "        logger.info(f'---------- Splitting Training Data into Training, Testing, and Validation Sets ----------')\n",
    "        try:\n",
    "            metadata_df = self.metadata_df.sample(frac=1).reset_index(drop=True) # Shuffle DataFrame\n",
    "            train_df, valid_df = train_test_split(metadata_df, train_size=self.config.train_val_test_split_ratio[0], random_state=self.config.random_state) # Split into training and val + test (combined)\n",
    "            valid_df, test_df = train_test_split(valid_df, train_size=self.config.train_val_test_split_ratio[1]/(self.config.train_val_test_split_ratio[1] + self.config.train_val_test_split_ratio[2]), random_state=self.config.random_state) # Split val + test combined into val and test sets\n",
    "            train_df['group'] = 'train'\n",
    "            test_df['group'] = 'test'\n",
    "            valid_df['group'] = 'val'\n",
    "            # Concatenate DataFrames\n",
    "            self.metadata = pd.concat([train_df, test_df, valid_df]) # Processed Metadata\n",
    "            # Export as CSV\n",
    "            self.metadata.to_csv(self.config.processed_metadata_path, index=False)\n",
    "            del train_df, test_df, valid_df, metadata_df \n",
    "        except Exception as e:\n",
    "            logger.info(\"Failed to Split Training Data\")\n",
    "            logger.exception(e)"
   ]
  },
  {
   "cell_type": "code",
   "execution_count": 12,
   "metadata": {},
   "outputs": [
    {
     "name": "stdout",
     "output_type": "stream",
     "text": [
      "[2024-06-29 17:54:22,970: INFO: common: yaml file: config.yaml loaded successfully]\n",
      "[2024-06-29 17:54:22,973: INFO: common: yaml file: params.yaml loaded successfully]\n",
      "[2024-06-29 17:54:22,975: INFO: 4206599812: ---------- Loading Metadata: data/metadata.csv ----------]\n",
      "[2024-06-29 17:54:22,997: INFO: 4206599812: ---------- Splitting Training Data into Training, Testing, and Validation Sets ----------]\n"
     ]
    }
   ],
   "source": [
    "# Pipeline\n",
    "config = ConfigurationManager().get_data_prep_config()\n",
    "pipeline = DataPrepComponents(config=config)\n",
    "pipeline.load_metadata()\n",
    "pipeline.split_dataset()\n"
   ]
  },
  {
   "cell_type": "code",
   "execution_count": null,
   "metadata": {},
   "outputs": [],
   "source": []
  },
  {
   "cell_type": "markdown",
   "metadata": {},
   "source": []
  }
 ],
 "metadata": {
  "kernelspec": {
   "display_name": ".venv",
   "language": "python",
   "name": "python3"
  },
  "language_info": {
   "codemirror_mode": {
    "name": "ipython",
    "version": 3
   },
   "file_extension": ".py",
   "mimetype": "text/x-python",
   "name": "python",
   "nbconvert_exporter": "python",
   "pygments_lexer": "ipython3",
   "version": "3.10.12"
  }
 },
 "nbformat": 4,
 "nbformat_minor": 2
}
