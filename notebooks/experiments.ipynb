{
 "cells": [
  {
   "cell_type": "markdown",
   "metadata": {},
   "source": [
    "### Stage 1: Data Ingestion\n",
    "\n",
    "- [ ] Define Configuration for Interacting with Kaggle Public API\n",
    "- [ ] Download Kaggle Dataset using Kaggle Credentials and Save Data to `data` directory\n",
    "- [ ] Create a Pipeline that automates data ingestion for any publically available Kaggle Dataset\n"
   ]
  },
  {
   "cell_type": "markdown",
   "metadata": {},
   "source": [
    "#### Configuration"
   ]
  },
  {
   "cell_type": "code",
   "execution_count": 2,
   "metadata": {},
   "outputs": [
    {
     "name": "stdout",
     "output_type": "stream",
     "text": [
      "Current Working Directory: /Users/geovicco/Coding/Projects/deepgloberoadextraction\n"
     ]
    }
   ],
   "source": [
    "import os\n",
    "os.chdir('../')\n",
    "print(f'Current Working Directory: {os.getcwd()}')"
   ]
  },
  {
   "cell_type": "code",
   "execution_count": 3,
   "metadata": {},
   "outputs": [
    {
     "name": "stdout",
     "output_type": "stream",
     "text": [
      "[2024-06-04 01:20:15,125: INFO: common: yaml file: config.yaml loaded successfully]\n",
      "[2024-06-04 01:20:15,128: INFO: common: yaml file: secrets.yaml loaded successfully]\n",
      "[2024-06-04 01:20:15,129: INFO: common: created directory at: data]\n"
     ]
    },
    {
     "data": {
      "text/plain": [
       "DataIngestionConfig(username='adityasharma47', token='be3010af43521b24f19c27b661d318f0', download_dir=PosixPath('data'), dataset_id='balraj98/deepglobe-road-extraction-dataset')"
      ]
     },
     "execution_count": 3,
     "metadata": {},
     "output_type": "execute_result"
    }
   ],
   "source": [
    "from dataclasses import dataclass\n",
    "from pathlib import Path\n",
    "\n",
    "@dataclass(frozen=True)\n",
    "class DataIngestionConfig:\n",
    "    # Kaggle Credentials from secrets.yaml\n",
    "    username: str\n",
    "    token: str\n",
    "    # config.yaml\n",
    "    download_dir: Path\n",
    "    dataset_id: str\n",
    "\n",
    "from DeepGlobeRoadExtraction import CONFIG_FILE_PATH, SECRETS_FILE_PATH\n",
    "from DeepGlobeRoadExtraction.utils.common import read_yaml, create_directories\n",
    "\n",
    "class ConfigurationManager:\n",
    "    def __init__(self, config_filepath = CONFIG_FILE_PATH, secrets_filepath = SECRETS_FILE_PATH) -> None:\n",
    "        self.config = read_yaml(config_filepath)\n",
    "        self.secrets = read_yaml(secrets_filepath)\n",
    "        create_directories([self.config.data_ingestion.download_dir])\n",
    "    \n",
    "    def get_data_ingestion_config(self) -> DataIngestionConfig:\n",
    "        config = self.config.data_ingestion\n",
    "        secrets = self.secrets.kaggle\n",
    "        cfg = DataIngestionConfig(\n",
    "            download_dir=Path(config.download_dir),\n",
    "            dataset_id=config.dataset_id,\n",
    "            username=secrets.username,\n",
    "            token=secrets.token\n",
    "        )\n",
    "        return cfg\n",
    "    \n",
    "cfg = ConfigurationManager().get_data_ingestion_config()\n",
    "cfg"
   ]
  },
  {
   "cell_type": "markdown",
   "metadata": {},
   "source": [
    "#### Components"
   ]
  },
  {
   "cell_type": "code",
   "execution_count": 5,
   "metadata": {},
   "outputs": [],
   "source": [
    "import os\n",
    "import subprocess\n",
    "import json\n",
    "from DeepGlobeRoadExtraction import logger\n",
    "\n",
    "class DataIngestionComponents:\n",
    "    def __init__(self, config: DataIngestionConfig) -> None:\n",
    "        self.config = config\n",
    "\n",
    "    def initialise_kaggle(self):\n",
    "        logger.info(f'---------- Initialising Kaggle Account ----------')\n",
    "        # Set Path for Kaggle Configration File\n",
    "        KAGGLE_CONFIG_DIR = os.path.join(os.path.expandvars('$HOME'), '.kaggle')\n",
    "        KAGGLE_CONFIG_FILE = os.path.join(KAGGLE_CONFIG_DIR, 'kaggle.json')\n",
    "        \n",
    "        # Check if kaggle.json already exists and is not empty\n",
    "        if os.path.exists(KAGGLE_CONFIG_FILE) and os.path.getsize(KAGGLE_CONFIG_FILE) > 0:\n",
    "            logger.warning(f'---> Kaggle Account Credentials Found ==> {KAGGLE_CONFIG_FILE}. Remove this file and re-initialse if API token is invalid or has expired.')\n",
    "            return\n",
    "        \n",
    "        # Otherwise create .kaggle directory\n",
    "        os.makedirs(KAGGLE_CONFIG_DIR, exist_ok=True)\n",
    "        \n",
    "        try:\n",
    "            username = self.config.username\n",
    "            token = self.config.token\n",
    "            api_dict = {'username': username, 'key': token}\n",
    "            \n",
    "            # Create a kaggle.json file inside .kaggle folder and add your credentials\n",
    "            with open(KAGGLE_CONFIG_FILE, \"w\", encoding=\"utf-8\") as f:\n",
    "                json.dump(api_dict, f)\n",
    "            \n",
    "            # Change File Permissions\n",
    "            cmd = f\"chmod 600 {KAGGLE_CONFIG_FILE}\"\n",
    "            output = subprocess.check_output(cmd.split(\" \"))\n",
    "            output = output.decode(encoding=\"utf-8\")\n",
    "        except Exception as e:\n",
    "            logger.error('Failed to Initialise Kaggle Account!')\n",
    "            raise e\n",
    "        \n",
    "    # Download Kaggle Dataset\n",
    "    def download_dataset(self):\n",
    "        from kaggle.api.kaggle_api_extended import KaggleApi\n",
    "        logger.info(f'---------- Downloading Kaggle Dataset: {self.config.dataset_id} ----------')\n",
    "        try:\n",
    "            api = KaggleApi()\n",
    "            api.authenticate()\n",
    "            api.dataset_download_files(\n",
    "                dataset=self.config.dataset_id,\n",
    "                path=self.config.download_dir,\n",
    "                unzip=True,\n",
    "                force=False,\n",
    "                quiet=True\n",
    "            )\n",
    "            logger.info('---> Download Complete!')\n",
    "        except Exception as e:\n",
    "            logger.error('Kaggle dataset download failed!')\n",
    "            raise e"
   ]
  },
  {
   "cell_type": "markdown",
   "metadata": {},
   "source": [
    "#### Pipeline"
   ]
  },
  {
   "cell_type": "code",
   "execution_count": 6,
   "metadata": {},
   "outputs": [],
   "source": [
    "class DataIngestionPipeline:\n",
    "    def __init__(self) -> None:\n",
    "        pass\n",
    "    \n",
    "    def main(self):\n",
    "        config = ConfigurationManager().get_data_ingestion_config()\n",
    "        pipeline = DataIngestionComponents(config=config)\n",
    "        pipeline.initialise_kaggle()\n",
    "        pipeline.download_dataset()"
   ]
  },
  {
   "cell_type": "code",
   "execution_count": null,
   "metadata": {},
   "outputs": [],
   "source": [
    "DataIngestionPipeline().main()"
   ]
  }
 ],
 "metadata": {
  "kernelspec": {
   "display_name": ".venv",
   "language": "python",
   "name": "python3"
  },
  "language_info": {
   "codemirror_mode": {
    "name": "ipython",
    "version": 3
   },
   "file_extension": ".py",
   "mimetype": "text/x-python",
   "name": "python",
   "nbconvert_exporter": "python",
   "pygments_lexer": "ipython3",
   "version": "3.10.13"
  }
 },
 "nbformat": 4,
 "nbformat_minor": 2
}
